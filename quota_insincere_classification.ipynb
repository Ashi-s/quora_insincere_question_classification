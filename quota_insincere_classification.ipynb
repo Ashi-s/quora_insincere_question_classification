{
 "cells": [
  {
   "cell_type": "code",
   "execution_count": 4,
   "metadata": {},
   "outputs": [],
   "source": [
    "%matplotlib inline\n",
    "import os, sys\n",
    "import re\n",
    "import string\n",
    "import pathlib\n",
    "import random\n",
    "from collections import Counter, OrderedDict\n",
    "import numpy as np\n",
    "import pandas as pd\n",
    "import matplotlib.pyplot as plt\n",
    "import seaborn as sns\n",
    "import spacy\n",
    "from tqdm import tqdm, tqdm_notebook, tnrange\n",
    "tqdm.pandas(desc='Progress')\n",
    "\n",
    "import torch\n",
    "import torch.nn as nn\n",
    "import torch.optim as optim\n",
    "from torch.autograd import Variable\n",
    "import torch.nn.functional as F\n",
    "from torch.nn.utils.rnn import pack_padded_sequence, pad_packed_sequence\n",
    "\n",
    "import torchtext\n",
    "from torchtext import data\n",
    "from torchtext import vocab\n",
    "\n",
    "from sklearn.model_selection import StratifiedShuffleSplit, train_test_split\n",
    "from sklearn.metrics import accuracy_score\n",
    "\n",
    "from IPython.core.interactiveshell import InteractiveShell\n",
    "InteractiveShell.ast_node_interactivity='all'\n",
    "\n",
    "import warnings\n",
    "warnings.filterwarnings('ignore')\n",
    "\n",
    "device = torch.device(\"cuda:0\" if torch.cuda.is_available() else \"cpu\")"
   ]
  },
  {
   "cell_type": "code",
   "execution_count": 5,
   "metadata": {},
   "outputs": [],
   "source": [
    "train_path = './train.csv'\n",
    "test_path = './test.csv'\n",
    "df_train = pd.read_csv(train_path)\n",
    "df_test = pd.read_csv(test_path)"
   ]
  },
  {
   "cell_type": "code",
   "execution_count": 6,
   "metadata": {},
   "outputs": [
    {
     "data": {
      "text/html": [
       "<div>\n",
       "<style scoped>\n",
       "    .dataframe tbody tr th:only-of-type {\n",
       "        vertical-align: middle;\n",
       "    }\n",
       "\n",
       "    .dataframe tbody tr th {\n",
       "        vertical-align: top;\n",
       "    }\n",
       "\n",
       "    .dataframe thead th {\n",
       "        text-align: right;\n",
       "    }\n",
       "</style>\n",
       "<table border=\"1\" class=\"dataframe\">\n",
       "  <thead>\n",
       "    <tr style=\"text-align: right;\">\n",
       "      <th></th>\n",
       "      <th>qid</th>\n",
       "      <th>question_text</th>\n",
       "      <th>target</th>\n",
       "    </tr>\n",
       "  </thead>\n",
       "  <tbody>\n",
       "    <tr>\n",
       "      <th>0</th>\n",
       "      <td>00002165364db923c7e6</td>\n",
       "      <td>How did Quebec nationalists see their province...</td>\n",
       "      <td>0</td>\n",
       "    </tr>\n",
       "    <tr>\n",
       "      <th>1</th>\n",
       "      <td>000032939017120e6e44</td>\n",
       "      <td>Do you have an adopted dog, how would you enco...</td>\n",
       "      <td>0</td>\n",
       "    </tr>\n",
       "    <tr>\n",
       "      <th>2</th>\n",
       "      <td>0000412ca6e4628ce2cf</td>\n",
       "      <td>Why does velocity affect time? Does velocity a...</td>\n",
       "      <td>0</td>\n",
       "    </tr>\n",
       "    <tr>\n",
       "      <th>3</th>\n",
       "      <td>000042bf85aa498cd78e</td>\n",
       "      <td>How did Otto von Guericke used the Magdeburg h...</td>\n",
       "      <td>0</td>\n",
       "    </tr>\n",
       "    <tr>\n",
       "      <th>4</th>\n",
       "      <td>0000455dfa3e01eae3af</td>\n",
       "      <td>Can I convert montra helicon D to a mountain b...</td>\n",
       "      <td>0</td>\n",
       "    </tr>\n",
       "  </tbody>\n",
       "</table>\n",
       "</div>"
      ],
      "text/plain": [
       "                    qid                                      question_text  \\\n",
       "0  00002165364db923c7e6  How did Quebec nationalists see their province...   \n",
       "1  000032939017120e6e44  Do you have an adopted dog, how would you enco...   \n",
       "2  0000412ca6e4628ce2cf  Why does velocity affect time? Does velocity a...   \n",
       "3  000042bf85aa498cd78e  How did Otto von Guericke used the Magdeburg h...   \n",
       "4  0000455dfa3e01eae3af  Can I convert montra helicon D to a mountain b...   \n",
       "\n",
       "   target  \n",
       "0       0  \n",
       "1       0  \n",
       "2       0  \n",
       "3       0  \n",
       "4       0  "
      ]
     },
     "execution_count": 6,
     "metadata": {},
     "output_type": "execute_result"
    }
   ],
   "source": [
    "df_train.head()"
   ]
  },
  {
   "cell_type": "code",
   "execution_count": 7,
   "metadata": {},
   "outputs": [
    {
     "data": {
      "text/html": [
       "<div>\n",
       "<style scoped>\n",
       "    .dataframe tbody tr th:only-of-type {\n",
       "        vertical-align: middle;\n",
       "    }\n",
       "\n",
       "    .dataframe tbody tr th {\n",
       "        vertical-align: top;\n",
       "    }\n",
       "\n",
       "    .dataframe thead th {\n",
       "        text-align: right;\n",
       "    }\n",
       "</style>\n",
       "<table border=\"1\" class=\"dataframe\">\n",
       "  <thead>\n",
       "    <tr style=\"text-align: right;\">\n",
       "      <th></th>\n",
       "      <th>qid</th>\n",
       "      <th>question_text</th>\n",
       "    </tr>\n",
       "    <tr>\n",
       "      <th>target</th>\n",
       "      <th></th>\n",
       "      <th></th>\n",
       "    </tr>\n",
       "  </thead>\n",
       "  <tbody>\n",
       "    <tr>\n",
       "      <th>0</th>\n",
       "      <td>1225312</td>\n",
       "      <td>1225312</td>\n",
       "    </tr>\n",
       "    <tr>\n",
       "      <th>1</th>\n",
       "      <td>80810</td>\n",
       "      <td>80810</td>\n",
       "    </tr>\n",
       "  </tbody>\n",
       "</table>\n",
       "</div>"
      ],
      "text/plain": [
       "            qid  question_text\n",
       "target                        \n",
       "0       1225312        1225312\n",
       "1         80810          80810"
      ]
     },
     "execution_count": 7,
     "metadata": {},
     "output_type": "execute_result"
    }
   ],
   "source": [
    "df_train.groupby('target').count()"
   ]
  },
  {
   "cell_type": "code",
   "execution_count": 8,
   "metadata": {
    "scrolled": true
   },
   "outputs": [
    {
     "data": {
      "text/html": [
       "<div>\n",
       "<style scoped>\n",
       "    .dataframe tbody tr th:only-of-type {\n",
       "        vertical-align: middle;\n",
       "    }\n",
       "\n",
       "    .dataframe tbody tr th {\n",
       "        vertical-align: top;\n",
       "    }\n",
       "\n",
       "    .dataframe thead th {\n",
       "        text-align: right;\n",
       "    }\n",
       "</style>\n",
       "<table border=\"1\" class=\"dataframe\">\n",
       "  <thead>\n",
       "    <tr style=\"text-align: right;\">\n",
       "      <th></th>\n",
       "      <th>qid</th>\n",
       "      <th>question_text</th>\n",
       "      <th>target</th>\n",
       "    </tr>\n",
       "  </thead>\n",
       "  <tbody>\n",
       "    <tr>\n",
       "      <th>22</th>\n",
       "      <td>0000e91571b60c2fb487</td>\n",
       "      <td>Has the United States become the largest dicta...</td>\n",
       "      <td>1.0</td>\n",
       "    </tr>\n",
       "    <tr>\n",
       "      <th>30</th>\n",
       "      <td>00013ceca3f624b09f42</td>\n",
       "      <td>Which babies are more sweeter to their parents...</td>\n",
       "      <td>1.0</td>\n",
       "    </tr>\n",
       "    <tr>\n",
       "      <th>110</th>\n",
       "      <td>0004a7fcb2bf73076489</td>\n",
       "      <td>If blacks support school choice and mandatory ...</td>\n",
       "      <td>1.0</td>\n",
       "    </tr>\n",
       "    <tr>\n",
       "      <th>114</th>\n",
       "      <td>00052793eaa287aff1e1</td>\n",
       "      <td>I am gay boy and I love my cousin (boy). He is...</td>\n",
       "      <td>1.0</td>\n",
       "    </tr>\n",
       "    <tr>\n",
       "      <th>115</th>\n",
       "      <td>000537213b01fd77b58a</td>\n",
       "      <td>Which races have the smallest penis?</td>\n",
       "      <td>1.0</td>\n",
       "    </tr>\n",
       "    <tr>\n",
       "      <th>119</th>\n",
       "      <td>00056d45a1ce63856fc6</td>\n",
       "      <td>Why do females find penises ugly?</td>\n",
       "      <td>1.0</td>\n",
       "    </tr>\n",
       "    <tr>\n",
       "      <th>127</th>\n",
       "      <td>0005de07b07a17046e27</td>\n",
       "      <td>How do I marry an American woman for a Green C...</td>\n",
       "      <td>1.0</td>\n",
       "    </tr>\n",
       "    <tr>\n",
       "      <th>144</th>\n",
       "      <td>00068875d7c82a5bcf88</td>\n",
       "      <td>Why do Europeans say they're the superior race...</td>\n",
       "      <td>1.0</td>\n",
       "    </tr>\n",
       "    <tr>\n",
       "      <th>156</th>\n",
       "      <td>0006ffd99a6599ff35b3</td>\n",
       "      <td>Did Julius Caesar bring a tyrannosaurus rex on...</td>\n",
       "      <td>1.0</td>\n",
       "    </tr>\n",
       "    <tr>\n",
       "      <th>167</th>\n",
       "      <td>00075f7061837807c69f</td>\n",
       "      <td>In what manner has Republican backing of 'stat...</td>\n",
       "      <td>1.0</td>\n",
       "    </tr>\n",
       "    <tr>\n",
       "      <th>168</th>\n",
       "      <td>00076debbd82860ca33a</td>\n",
       "      <td>Would Europeans continue to participate in the...</td>\n",
       "      <td>1.0</td>\n",
       "    </tr>\n",
       "    <tr>\n",
       "      <th>208</th>\n",
       "      <td>000983f5b226cca636f4</td>\n",
       "      <td>Why are Americans, British, Canadians, Austral...</td>\n",
       "      <td>1.0</td>\n",
       "    </tr>\n",
       "    <tr>\n",
       "      <th>214</th>\n",
       "      <td>0009fcb845bb24de91f4</td>\n",
       "      <td>If both Honey Singh and Justin Bieber fall fro...</td>\n",
       "      <td>1.0</td>\n",
       "    </tr>\n",
       "    <tr>\n",
       "      <th>224</th>\n",
       "      <td>000a898565e80fe124bf</td>\n",
       "      <td>Why are liberal minorities so voilent towards ...</td>\n",
       "      <td>1.0</td>\n",
       "    </tr>\n",
       "    <tr>\n",
       "      <th>235</th>\n",
       "      <td>000b1f4cbc5c238a765d</td>\n",
       "      <td>Can we all now admit that President Trump does...</td>\n",
       "      <td>1.0</td>\n",
       "    </tr>\n",
       "    <tr>\n",
       "      <th>260</th>\n",
       "      <td>000c44fe9b2822b25d77</td>\n",
       "      <td>The American economy is growing under Trump’s ...</td>\n",
       "      <td>1.0</td>\n",
       "    </tr>\n",
       "    <tr>\n",
       "      <th>286</th>\n",
       "      <td>000d9de4df8d6a31c248</td>\n",
       "      <td>Why don't poor countries print more money to u...</td>\n",
       "      <td>1.0</td>\n",
       "    </tr>\n",
       "    <tr>\n",
       "      <th>289</th>\n",
       "      <td>000db4d0223af5dd9c5d</td>\n",
       "      <td>Why do all the people who claim Florida has gr...</td>\n",
       "      <td>1.0</td>\n",
       "    </tr>\n",
       "    <tr>\n",
       "      <th>291</th>\n",
       "      <td>000db9603d16a6d9bb2e</td>\n",
       "      <td>Could the leader of Iran be dead many years ag...</td>\n",
       "      <td>1.0</td>\n",
       "    </tr>\n",
       "    <tr>\n",
       "      <th>302</th>\n",
       "      <td>000e67648fce55f011be</td>\n",
       "      <td>Why do the Liberals who run schools choose not...</td>\n",
       "      <td>1.0</td>\n",
       "    </tr>\n",
       "    <tr>\n",
       "      <th>315</th>\n",
       "      <td>000f0266e12c3349db07</td>\n",
       "      <td>Why did Pakistan pass the Sikh Marriage Act be...</td>\n",
       "      <td>1.0</td>\n",
       "    </tr>\n",
       "    <tr>\n",
       "      <th>333</th>\n",
       "      <td>000f89527b907f3ef20f</td>\n",
       "      <td>How do I train my dogs to kill raccoons?</td>\n",
       "      <td>1.0</td>\n",
       "    </tr>\n",
       "    <tr>\n",
       "      <th>362</th>\n",
       "      <td>0010b8bd37af629de2f9</td>\n",
       "      <td>Is there any woman (other than Muslim) who is ...</td>\n",
       "      <td>1.0</td>\n",
       "    </tr>\n",
       "    <tr>\n",
       "      <th>397</th>\n",
       "      <td>0012bba774c13ce9cc9e</td>\n",
       "      <td>Do moms have sex with their sons?</td>\n",
       "      <td>1.0</td>\n",
       "    </tr>\n",
       "    <tr>\n",
       "      <th>400</th>\n",
       "      <td>0012d72ccc14e9329f97</td>\n",
       "      <td>Why did the Pope say that \"Muslims are a curse...</td>\n",
       "      <td>1.0</td>\n",
       "    </tr>\n",
       "    <tr>\n",
       "      <th>439</th>\n",
       "      <td>0014e0200bb280d44ea1</td>\n",
       "      <td>How peoples in India seems hypocritical about ...</td>\n",
       "      <td>1.0</td>\n",
       "    </tr>\n",
       "    <tr>\n",
       "      <th>460</th>\n",
       "      <td>0015e367aa794e5d547f</td>\n",
       "      <td>How much more political fumbling will it take ...</td>\n",
       "      <td>1.0</td>\n",
       "    </tr>\n",
       "    <tr>\n",
       "      <th>496</th>\n",
       "      <td>00175f5e9c85b110614e</td>\n",
       "      <td>Why do Americans prefer just to not show up so...</td>\n",
       "      <td>1.0</td>\n",
       "    </tr>\n",
       "    <tr>\n",
       "      <th>538</th>\n",
       "      <td>00199a473cba7b54d974</td>\n",
       "      <td>Liberals are pro-choice, but the choices must ...</td>\n",
       "      <td>1.0</td>\n",
       "    </tr>\n",
       "    <tr>\n",
       "      <th>544</th>\n",
       "      <td>0019e01b2a7b09d3cb65</td>\n",
       "      <td>Why are South Indian dishes which are prepared...</td>\n",
       "      <td>1.0</td>\n",
       "    </tr>\n",
       "    <tr>\n",
       "      <th>...</th>\n",
       "      <td>...</td>\n",
       "      <td>...</td>\n",
       "      <td>...</td>\n",
       "    </tr>\n",
       "    <tr>\n",
       "      <th>1305724</th>\n",
       "      <td>ffec4c802fb34eb23ef9</td>\n",
       "      <td>When did you feel first time yourself as shame...</td>\n",
       "      <td>1.0</td>\n",
       "    </tr>\n",
       "    <tr>\n",
       "      <th>1305732</th>\n",
       "      <td>ffec82d5dbd1ebefb7c0</td>\n",
       "      <td>Where can I hire a young stud so my teenager d...</td>\n",
       "      <td>1.0</td>\n",
       "    </tr>\n",
       "    <tr>\n",
       "      <th>1305742</th>\n",
       "      <td>ffece1a61e7be3c3e3f5</td>\n",
       "      <td>Why nobody talks about the STUPIDITY of the Am...</td>\n",
       "      <td>1.0</td>\n",
       "    </tr>\n",
       "    <tr>\n",
       "      <th>1305782</th>\n",
       "      <td>ffeee6fdbb7b0d1c3b45</td>\n",
       "      <td>Is Erdogan turning Ataturk’s Democratic Turkey...</td>\n",
       "      <td>1.0</td>\n",
       "    </tr>\n",
       "    <tr>\n",
       "      <th>1305800</th>\n",
       "      <td>ffefde8802949fc800df</td>\n",
       "      <td>Why isn't the former attorney general Loretta ...</td>\n",
       "      <td>1.0</td>\n",
       "    </tr>\n",
       "    <tr>\n",
       "      <th>1305803</th>\n",
       "      <td>fff0135dbfec9632c4b1</td>\n",
       "      <td>What percentage of women cheat on their hubbies?</td>\n",
       "      <td>1.0</td>\n",
       "    </tr>\n",
       "    <tr>\n",
       "      <th>1305824</th>\n",
       "      <td>fff11ad2993140f3b781</td>\n",
       "      <td>Is someone diagnosed with Asperger's syndrome ...</td>\n",
       "      <td>1.0</td>\n",
       "    </tr>\n",
       "    <tr>\n",
       "      <th>1305826</th>\n",
       "      <td>fff154c079d3a38e52fb</td>\n",
       "      <td>Why are Israeli men short?</td>\n",
       "      <td>1.0</td>\n",
       "    </tr>\n",
       "    <tr>\n",
       "      <th>1305851</th>\n",
       "      <td>fff299cebfe81e809f9b</td>\n",
       "      <td>Some psychiatrists in Iran claim that they can...</td>\n",
       "      <td>1.0</td>\n",
       "    </tr>\n",
       "    <tr>\n",
       "      <th>1305872</th>\n",
       "      <td>fff3f7db2ca135f2fb73</td>\n",
       "      <td>What happens to a state if its population, dem...</td>\n",
       "      <td>1.0</td>\n",
       "    </tr>\n",
       "    <tr>\n",
       "      <th>1305912</th>\n",
       "      <td>fff5fa44ab508147502a</td>\n",
       "      <td>Do the Chinese people eat bath soap?</td>\n",
       "      <td>1.0</td>\n",
       "    </tr>\n",
       "    <tr>\n",
       "      <th>1305923</th>\n",
       "      <td>fff680ed5edf7171837f</td>\n",
       "      <td>Does this Congress have blood on their hands f...</td>\n",
       "      <td>1.0</td>\n",
       "    </tr>\n",
       "    <tr>\n",
       "      <th>1305925</th>\n",
       "      <td>fff6992ae1074305146b</td>\n",
       "      <td>Why are men selective?</td>\n",
       "      <td>1.0</td>\n",
       "    </tr>\n",
       "    <tr>\n",
       "      <th>1305935</th>\n",
       "      <td>fff7047fb7f50f22034e</td>\n",
       "      <td>Why do girls not prefer to become a physicist?</td>\n",
       "      <td>1.0</td>\n",
       "    </tr>\n",
       "    <tr>\n",
       "      <th>1305946</th>\n",
       "      <td>fff7c4b7fce4aa35085f</td>\n",
       "      <td>Why do the people from Kannur in Kerala adjust...</td>\n",
       "      <td>1.0</td>\n",
       "    </tr>\n",
       "    <tr>\n",
       "      <th>1305949</th>\n",
       "      <td>fff7daec8aaa3fef0144</td>\n",
       "      <td>Why is there a trend for dresses to reveal the...</td>\n",
       "      <td>1.0</td>\n",
       "    </tr>\n",
       "    <tr>\n",
       "      <th>1305956</th>\n",
       "      <td>fff821cc942595ad001a</td>\n",
       "      <td>Should I give my child a panic button or peppe...</td>\n",
       "      <td>1.0</td>\n",
       "    </tr>\n",
       "    <tr>\n",
       "      <th>1305961</th>\n",
       "      <td>fff88b573199be9c49dd</td>\n",
       "      <td>Is it true that hydrogen is a light, odorless ...</td>\n",
       "      <td>1.0</td>\n",
       "    </tr>\n",
       "    <tr>\n",
       "      <th>1305980</th>\n",
       "      <td>fff9b1f5811b8d100ad7</td>\n",
       "      <td>It is posible to kill 4months baby?</td>\n",
       "      <td>1.0</td>\n",
       "    </tr>\n",
       "    <tr>\n",
       "      <th>1305995</th>\n",
       "      <td>fffa3d341342b5466b72</td>\n",
       "      <td>Is it a fact that the Europeans are the bigges...</td>\n",
       "      <td>1.0</td>\n",
       "    </tr>\n",
       "    <tr>\n",
       "      <th>1306017</th>\n",
       "      <td>fffb248e6d138dd1d942</td>\n",
       "      <td>What are not scam online services for essay wr...</td>\n",
       "      <td>1.0</td>\n",
       "    </tr>\n",
       "    <tr>\n",
       "      <th>1306025</th>\n",
       "      <td>fffb79a4422e61289508</td>\n",
       "      <td>Is it just me, or was Prince the singer ugly a...</td>\n",
       "      <td>1.0</td>\n",
       "    </tr>\n",
       "    <tr>\n",
       "      <th>1306026</th>\n",
       "      <td>fffb7af82c269dd9e46b</td>\n",
       "      <td>Could we finally give Einstein's first wife cr...</td>\n",
       "      <td>1.0</td>\n",
       "    </tr>\n",
       "    <tr>\n",
       "      <th>1306031</th>\n",
       "      <td>fffbada9affd3fc98e82</td>\n",
       "      <td>Why do Jews want endless immigration to the US...</td>\n",
       "      <td>1.0</td>\n",
       "    </tr>\n",
       "    <tr>\n",
       "      <th>1306071</th>\n",
       "      <td>fffda2da6882154e1b91</td>\n",
       "      <td>Will Oprah buy the DNC to guarantee her nomina...</td>\n",
       "      <td>1.0</td>\n",
       "    </tr>\n",
       "    <tr>\n",
       "      <th>1306093</th>\n",
       "      <td>fffeba722d9b371bd1b9</td>\n",
       "      <td>How is it to have intimate relation with your ...</td>\n",
       "      <td>1.0</td>\n",
       "    </tr>\n",
       "    <tr>\n",
       "      <th>1306094</th>\n",
       "      <td>fffee269360dd0d3947a</td>\n",
       "      <td>Why is it when singers have lyrics about voice...</td>\n",
       "      <td>1.0</td>\n",
       "    </tr>\n",
       "    <tr>\n",
       "      <th>1306099</th>\n",
       "      <td>ffff0e4ea1bb6e16feec</td>\n",
       "      <td>Do pakis smell of curry and shit?</td>\n",
       "      <td>1.0</td>\n",
       "    </tr>\n",
       "    <tr>\n",
       "      <th>1306103</th>\n",
       "      <td>ffff3f0a2449ffe4b9ff</td>\n",
       "      <td>Isn't Trump right after all? Why should the US...</td>\n",
       "      <td>1.0</td>\n",
       "    </tr>\n",
       "    <tr>\n",
       "      <th>1306112</th>\n",
       "      <td>ffffa5b0fa76431c063f</td>\n",
       "      <td>Are you ashamed of being an Indian?</td>\n",
       "      <td>1.0</td>\n",
       "    </tr>\n",
       "  </tbody>\n",
       "</table>\n",
       "<p>80810 rows × 3 columns</p>\n",
       "</div>"
      ],
      "text/plain": [
       "                          qid  \\\n",
       "22       0000e91571b60c2fb487   \n",
       "30       00013ceca3f624b09f42   \n",
       "110      0004a7fcb2bf73076489   \n",
       "114      00052793eaa287aff1e1   \n",
       "115      000537213b01fd77b58a   \n",
       "119      00056d45a1ce63856fc6   \n",
       "127      0005de07b07a17046e27   \n",
       "144      00068875d7c82a5bcf88   \n",
       "156      0006ffd99a6599ff35b3   \n",
       "167      00075f7061837807c69f   \n",
       "168      00076debbd82860ca33a   \n",
       "208      000983f5b226cca636f4   \n",
       "214      0009fcb845bb24de91f4   \n",
       "224      000a898565e80fe124bf   \n",
       "235      000b1f4cbc5c238a765d   \n",
       "260      000c44fe9b2822b25d77   \n",
       "286      000d9de4df8d6a31c248   \n",
       "289      000db4d0223af5dd9c5d   \n",
       "291      000db9603d16a6d9bb2e   \n",
       "302      000e67648fce55f011be   \n",
       "315      000f0266e12c3349db07   \n",
       "333      000f89527b907f3ef20f   \n",
       "362      0010b8bd37af629de2f9   \n",
       "397      0012bba774c13ce9cc9e   \n",
       "400      0012d72ccc14e9329f97   \n",
       "439      0014e0200bb280d44ea1   \n",
       "460      0015e367aa794e5d547f   \n",
       "496      00175f5e9c85b110614e   \n",
       "538      00199a473cba7b54d974   \n",
       "544      0019e01b2a7b09d3cb65   \n",
       "...                       ...   \n",
       "1305724  ffec4c802fb34eb23ef9   \n",
       "1305732  ffec82d5dbd1ebefb7c0   \n",
       "1305742  ffece1a61e7be3c3e3f5   \n",
       "1305782  ffeee6fdbb7b0d1c3b45   \n",
       "1305800  ffefde8802949fc800df   \n",
       "1305803  fff0135dbfec9632c4b1   \n",
       "1305824  fff11ad2993140f3b781   \n",
       "1305826  fff154c079d3a38e52fb   \n",
       "1305851  fff299cebfe81e809f9b   \n",
       "1305872  fff3f7db2ca135f2fb73   \n",
       "1305912  fff5fa44ab508147502a   \n",
       "1305923  fff680ed5edf7171837f   \n",
       "1305925  fff6992ae1074305146b   \n",
       "1305935  fff7047fb7f50f22034e   \n",
       "1305946  fff7c4b7fce4aa35085f   \n",
       "1305949  fff7daec8aaa3fef0144   \n",
       "1305956  fff821cc942595ad001a   \n",
       "1305961  fff88b573199be9c49dd   \n",
       "1305980  fff9b1f5811b8d100ad7   \n",
       "1305995  fffa3d341342b5466b72   \n",
       "1306017  fffb248e6d138dd1d942   \n",
       "1306025  fffb79a4422e61289508   \n",
       "1306026  fffb7af82c269dd9e46b   \n",
       "1306031  fffbada9affd3fc98e82   \n",
       "1306071  fffda2da6882154e1b91   \n",
       "1306093  fffeba722d9b371bd1b9   \n",
       "1306094  fffee269360dd0d3947a   \n",
       "1306099  ffff0e4ea1bb6e16feec   \n",
       "1306103  ffff3f0a2449ffe4b9ff   \n",
       "1306112  ffffa5b0fa76431c063f   \n",
       "\n",
       "                                             question_text  target  \n",
       "22       Has the United States become the largest dicta...     1.0  \n",
       "30       Which babies are more sweeter to their parents...     1.0  \n",
       "110      If blacks support school choice and mandatory ...     1.0  \n",
       "114      I am gay boy and I love my cousin (boy). He is...     1.0  \n",
       "115                   Which races have the smallest penis?     1.0  \n",
       "119                      Why do females find penises ugly?     1.0  \n",
       "127      How do I marry an American woman for a Green C...     1.0  \n",
       "144      Why do Europeans say they're the superior race...     1.0  \n",
       "156      Did Julius Caesar bring a tyrannosaurus rex on...     1.0  \n",
       "167      In what manner has Republican backing of 'stat...     1.0  \n",
       "168      Would Europeans continue to participate in the...     1.0  \n",
       "208      Why are Americans, British, Canadians, Austral...     1.0  \n",
       "214      If both Honey Singh and Justin Bieber fall fro...     1.0  \n",
       "224      Why are liberal minorities so voilent towards ...     1.0  \n",
       "235      Can we all now admit that President Trump does...     1.0  \n",
       "260      The American economy is growing under Trump’s ...     1.0  \n",
       "286      Why don't poor countries print more money to u...     1.0  \n",
       "289      Why do all the people who claim Florida has gr...     1.0  \n",
       "291      Could the leader of Iran be dead many years ag...     1.0  \n",
       "302      Why do the Liberals who run schools choose not...     1.0  \n",
       "315      Why did Pakistan pass the Sikh Marriage Act be...     1.0  \n",
       "333               How do I train my dogs to kill raccoons?     1.0  \n",
       "362      Is there any woman (other than Muslim) who is ...     1.0  \n",
       "397                      Do moms have sex with their sons?     1.0  \n",
       "400      Why did the Pope say that \"Muslims are a curse...     1.0  \n",
       "439      How peoples in India seems hypocritical about ...     1.0  \n",
       "460      How much more political fumbling will it take ...     1.0  \n",
       "496      Why do Americans prefer just to not show up so...     1.0  \n",
       "538      Liberals are pro-choice, but the choices must ...     1.0  \n",
       "544      Why are South Indian dishes which are prepared...     1.0  \n",
       "...                                                    ...     ...  \n",
       "1305724  When did you feel first time yourself as shame...     1.0  \n",
       "1305732  Where can I hire a young stud so my teenager d...     1.0  \n",
       "1305742  Why nobody talks about the STUPIDITY of the Am...     1.0  \n",
       "1305782  Is Erdogan turning Ataturk’s Democratic Turkey...     1.0  \n",
       "1305800  Why isn't the former attorney general Loretta ...     1.0  \n",
       "1305803   What percentage of women cheat on their hubbies?     1.0  \n",
       "1305824  Is someone diagnosed with Asperger's syndrome ...     1.0  \n",
       "1305826                         Why are Israeli men short?     1.0  \n",
       "1305851  Some psychiatrists in Iran claim that they can...     1.0  \n",
       "1305872  What happens to a state if its population, dem...     1.0  \n",
       "1305912               Do the Chinese people eat bath soap?     1.0  \n",
       "1305923  Does this Congress have blood on their hands f...     1.0  \n",
       "1305925                             Why are men selective?     1.0  \n",
       "1305935     Why do girls not prefer to become a physicist?     1.0  \n",
       "1305946  Why do the people from Kannur in Kerala adjust...     1.0  \n",
       "1305949  Why is there a trend for dresses to reveal the...     1.0  \n",
       "1305956  Should I give my child a panic button or peppe...     1.0  \n",
       "1305961  Is it true that hydrogen is a light, odorless ...     1.0  \n",
       "1305980                It is posible to kill 4months baby?     1.0  \n",
       "1305995  Is it a fact that the Europeans are the bigges...     1.0  \n",
       "1306017  What are not scam online services for essay wr...     1.0  \n",
       "1306025  Is it just me, or was Prince the singer ugly a...     1.0  \n",
       "1306026  Could we finally give Einstein's first wife cr...     1.0  \n",
       "1306031  Why do Jews want endless immigration to the US...     1.0  \n",
       "1306071  Will Oprah buy the DNC to guarantee her nomina...     1.0  \n",
       "1306093  How is it to have intimate relation with your ...     1.0  \n",
       "1306094  Why is it when singers have lyrics about voice...     1.0  \n",
       "1306099                  Do pakis smell of curry and shit?     1.0  \n",
       "1306103  Isn't Trump right after all? Why should the US...     1.0  \n",
       "1306112                Are you ashamed of being an Indian?     1.0  \n",
       "\n",
       "[80810 rows x 3 columns]"
      ]
     },
     "execution_count": 8,
     "metadata": {},
     "output_type": "execute_result"
    }
   ],
   "source": [
    "df_train.where(df_train['target'] == 1).dropna()"
   ]
  },
  {
   "cell_type": "code",
   "execution_count": 9,
   "metadata": {},
   "outputs": [
    {
     "data": {
      "text/html": [
       "<div>\n",
       "<style scoped>\n",
       "    .dataframe tbody tr th:only-of-type {\n",
       "        vertical-align: middle;\n",
       "    }\n",
       "\n",
       "    .dataframe tbody tr th {\n",
       "        vertical-align: top;\n",
       "    }\n",
       "\n",
       "    .dataframe thead th {\n",
       "        text-align: right;\n",
       "    }\n",
       "</style>\n",
       "<table border=\"1\" class=\"dataframe\">\n",
       "  <thead>\n",
       "    <tr style=\"text-align: right;\">\n",
       "      <th></th>\n",
       "      <th>qid</th>\n",
       "      <th>question_text</th>\n",
       "      <th>target</th>\n",
       "    </tr>\n",
       "  </thead>\n",
       "  <tbody>\n",
       "    <tr>\n",
       "      <th>0</th>\n",
       "      <td>00002165364db923c7e6</td>\n",
       "      <td>How did Quebec nationalists see their province...</td>\n",
       "      <td>0</td>\n",
       "    </tr>\n",
       "    <tr>\n",
       "      <th>1</th>\n",
       "      <td>000032939017120e6e44</td>\n",
       "      <td>Do you have an adopted dog, how would you enco...</td>\n",
       "      <td>0</td>\n",
       "    </tr>\n",
       "    <tr>\n",
       "      <th>2</th>\n",
       "      <td>0000412ca6e4628ce2cf</td>\n",
       "      <td>Why does velocity affect time? Does velocity a...</td>\n",
       "      <td>0</td>\n",
       "    </tr>\n",
       "    <tr>\n",
       "      <th>3</th>\n",
       "      <td>000042bf85aa498cd78e</td>\n",
       "      <td>How did Otto von Guericke used the Magdeburg h...</td>\n",
       "      <td>0</td>\n",
       "    </tr>\n",
       "    <tr>\n",
       "      <th>4</th>\n",
       "      <td>0000455dfa3e01eae3af</td>\n",
       "      <td>Can I convert montra helicon D to a mountain b...</td>\n",
       "      <td>0</td>\n",
       "    </tr>\n",
       "  </tbody>\n",
       "</table>\n",
       "</div>"
      ],
      "text/plain": [
       "                    qid                                      question_text  \\\n",
       "0  00002165364db923c7e6  How did Quebec nationalists see their province...   \n",
       "1  000032939017120e6e44  Do you have an adopted dog, how would you enco...   \n",
       "2  0000412ca6e4628ce2cf  Why does velocity affect time? Does velocity a...   \n",
       "3  000042bf85aa498cd78e  How did Otto von Guericke used the Magdeburg h...   \n",
       "4  0000455dfa3e01eae3af  Can I convert montra helicon D to a mountain b...   \n",
       "\n",
       "   target  \n",
       "0       0  \n",
       "1       0  \n",
       "2       0  \n",
       "3       0  \n",
       "4       0  "
      ]
     },
     "execution_count": 9,
     "metadata": {},
     "output_type": "execute_result"
    }
   ],
   "source": [
    "df_train.head()"
   ]
  },
  {
   "cell_type": "code",
   "execution_count": null,
   "metadata": {},
   "outputs": [],
   "source": []
  },
  {
   "cell_type": "code",
   "execution_count": null,
   "metadata": {},
   "outputs": [],
   "source": []
  },
  {
   "cell_type": "code",
   "execution_count": 10,
   "metadata": {},
   "outputs": [
    {
     "data": {
      "text/plain": [
       "'What are the literary devices used in the novel \"Les Misérables\" by Victor Hugo?'"
      ]
     },
     "execution_count": 10,
     "metadata": {},
     "output_type": "execute_result"
    }
   ],
   "source": [
    "df_train['question_text'][130757]"
   ]
  },
  {
   "cell_type": "code",
   "execution_count": 11,
   "metadata": {},
   "outputs": [
    {
     "data": {
      "text/plain": [
       "[Text(0.5, 0, 'Target')]"
      ]
     },
     "execution_count": 11,
     "metadata": {},
     "output_type": "execute_result"
    },
    {
     "data": {
      "text/plain": [
       "[Text(0, 0.5, 'count')]"
      ]
     },
     "execution_count": 11,
     "metadata": {},
     "output_type": "execute_result"
    },
    {
     "data": {
      "text/plain": [
       "<matplotlib.legend.Legend at 0x1a19d1f780>"
      ]
     },
     "execution_count": 11,
     "metadata": {},
     "output_type": "execute_result"
    },
    {
     "data": {
      "text/plain": [
       "Text(0.5, 1.0, 'Distribution of Negative & Positive Insincere question')"
      ]
     },
     "execution_count": 11,
     "metadata": {},
     "output_type": "execute_result"
    },
    {
     "data": {
      "image/png": "[encoded data removed]",
      "text/plain": [
       "<Figure size 576x360 with 1 Axes>"
      ]
     },
     "metadata": {
      "needs_background": "light"
     },
     "output_type": "display_data"
    }
   ],
   "source": [
    "import matplotlib.pyplot as plt\n",
    "import seaborn as sns\n",
    "\n",
    "fig = plt.figure(figsize=(8,5))\n",
    "ax = sns.barplot(x=df_train.target.unique(),y=df_train.target.value_counts(), hue = ['0', '1'], dodge = False);\n",
    "\n",
    "#ax.set_title('Distribution of Negative & Positive Insincere question')\n",
    "ax.set(xlabel= 'Target')\n",
    "ax.set(ylabel= 'count')\n",
    "\n",
    "handles, _ = ax.get_legend_handles_labels()\n",
    "ax.legend(handles, ['Negative', 'Positive'])\n",
    "\n",
    "plt.title('Distribution of Negative & Positive Insincere question')\n",
    "plt.show()"
   ]
  },
  {
   "cell_type": "code",
   "execution_count": 12,
   "metadata": {},
   "outputs": [
    {
     "name": "stderr",
     "output_type": "stream",
     "text": [
      "Progress:   1%|          | 8712/1306122 [00:00<00:14, 87119.04it/s]"
     ]
    },
    {
     "name": "stdout",
     "output_type": "stream",
     "text": [
      "<class 'pandas.core.series.Series'>\n"
     ]
    },
    {
     "name": "stderr",
     "output_type": "stream",
     "text": [
      "Progress: 100%|██████████| 1306122/1306122 [00:03<00:00, 393270.11it/s]\n"
     ]
    }
   ],
   "source": [
    "print(type(df_train['question_text']))\n",
    "df_train['question_text'] = df_train.question_text.progress_apply(lambda x: re.sub('\\n', ' ', x))\n"
   ]
  },
  {
   "cell_type": "code",
   "execution_count": 13,
   "metadata": {},
   "outputs": [
    {
     "data": {
      "text/plain": [
       "'How did Quebec nationalists see their province as a nation in the 1960s?'"
      ]
     },
     "execution_count": 13,
     "metadata": {},
     "output_type": "execute_result"
    }
   ],
   "source": [
    "df_train['question_text'][0]"
   ]
  },
  {
   "cell_type": "code",
   "execution_count": 14,
   "metadata": {},
   "outputs": [],
   "source": [
    "nlp = spacy.load('en',disable=['parser', 'tagger', 'ner'])\n",
    "def tokenizer(s): return [w.text.lower() for w in nlp(tweet_clean(s))]"
   ]
  },
  {
   "cell_type": "code",
   "execution_count": 15,
   "metadata": {},
   "outputs": [],
   "source": [
    "def tweet_clean(text):\n",
    "    text = re.sub(r'[^A-Za-z0-9]+', ' ', text) # remove non alphanumeric character\n",
    "    text = re.sub(r'https?:/\\/\\S+', ' ', text) # remove links\n",
    "    return text.strip()"
   ]
  },
  {
   "cell_type": "code",
   "execution_count": 16,
   "metadata": {},
   "outputs": [],
   "source": [
    "TEXT = data.Field(sequential=True, tokenize=tokenizer, include_lengths=True, use_vocab=True)\n",
    "LABELS = data.Field(sequential=False, use_vocab=False, pad_token=None, unk_token=None)\n",
    "\n",
    "train_fields = [\n",
    "    ('qid', None),\n",
    "    ('question_text', TEXT),\n",
    "    ('target', LABELS)\n",
    "]"
   ]
  },
  {
   "cell_type": "code",
   "execution_count": 17,
   "metadata": {},
   "outputs": [
    {
     "name": "stdout",
     "output_type": "stream",
     "text": [
      "<class 'pandas.core.frame.DataFrame'>\n"
     ]
    }
   ],
   "source": [
    "print(type(df_train))"
   ]
  },
  {
   "cell_type": "code",
   "execution_count": 18,
   "metadata": {},
   "outputs": [],
   "source": [
    "## seperating"
   ]
  },
  {
   "cell_type": "code",
   "execution_count": 19,
   "metadata": {},
   "outputs": [],
   "source": [
    "def split_train_test(df_train, test_size=0.2):\n",
    "    train, val = train_test_split(df_train, test_size=test_size,random_state=42)\n",
    "    return train.reset_index(drop=True), val.reset_index(drop=True)"
   ]
  },
  {
   "cell_type": "code",
   "execution_count": 20,
   "metadata": {},
   "outputs": [],
   "source": [
    "traindf, valdf = split_train_test(df_train, test_size=0.2)"
   ]
  },
  {
   "cell_type": "code",
   "execution_count": 22,
   "metadata": {},
   "outputs": [],
   "source": [
    "traindf.to_csv('traindf.csv', index = False)\n",
    "valdf.to_csv('valdf.csv',index= False)"
   ]
  },
  {
   "cell_type": "code",
   "execution_count": 23,
   "metadata": {},
   "outputs": [
    {
     "data": {
      "text/html": [
       "<div>\n",
       "<style scoped>\n",
       "    .dataframe tbody tr th:only-of-type {\n",
       "        vertical-align: middle;\n",
       "    }\n",
       "\n",
       "    .dataframe tbody tr th {\n",
       "        vertical-align: top;\n",
       "    }\n",
       "\n",
       "    .dataframe thead th {\n",
       "        text-align: right;\n",
       "    }\n",
       "</style>\n",
       "<table border=\"1\" class=\"dataframe\">\n",
       "  <thead>\n",
       "    <tr style=\"text-align: right;\">\n",
       "      <th></th>\n",
       "      <th>qid</th>\n",
       "      <th>question_text</th>\n",
       "      <th>target</th>\n",
       "    </tr>\n",
       "  </thead>\n",
       "  <tbody>\n",
       "    <tr>\n",
       "      <th>0</th>\n",
       "      <td>3a820a95342d28ad402f</td>\n",
       "      <td>How is strategic positioning is different from...</td>\n",
       "      <td>0</td>\n",
       "    </tr>\n",
       "    <tr>\n",
       "      <th>1</th>\n",
       "      <td>9fca299caa0cf8f12eac</td>\n",
       "      <td>What is the best way for promote Facebook mark...</td>\n",
       "      <td>0</td>\n",
       "    </tr>\n",
       "    <tr>\n",
       "      <th>2</th>\n",
       "      <td>de23f10ad011a6fb13c7</td>\n",
       "      <td>How much energized proton radiation does the I...</td>\n",
       "      <td>0</td>\n",
       "    </tr>\n",
       "    <tr>\n",
       "      <th>3</th>\n",
       "      <td>d2eef16340896e963a63</td>\n",
       "      <td>Would any Indian men want to marry a women tha...</td>\n",
       "      <td>0</td>\n",
       "    </tr>\n",
       "    <tr>\n",
       "      <th>4</th>\n",
       "      <td>27d584db9bd46b6ab44e</td>\n",
       "      <td>Which is the best business for startups in Ind...</td>\n",
       "      <td>0</td>\n",
       "    </tr>\n",
       "  </tbody>\n",
       "</table>\n",
       "</div>"
      ],
      "text/plain": [
       "                    qid                                      question_text  \\\n",
       "0  3a820a95342d28ad402f  How is strategic positioning is different from...   \n",
       "1  9fca299caa0cf8f12eac  What is the best way for promote Facebook mark...   \n",
       "2  de23f10ad011a6fb13c7  How much energized proton radiation does the I...   \n",
       "3  d2eef16340896e963a63  Would any Indian men want to marry a women tha...   \n",
       "4  27d584db9bd46b6ab44e  Which is the best business for startups in Ind...   \n",
       "\n",
       "   target  \n",
       "0       0  \n",
       "1       0  \n",
       "2       0  \n",
       "3       0  \n",
       "4       0  "
      ]
     },
     "execution_count": 23,
     "metadata": {},
     "output_type": "execute_result"
    }
   ],
   "source": [
    "##crate torchtext dataset\n",
    "traindf.head()"
   ]
  },
  {
   "cell_type": "code",
   "execution_count": 24,
   "metadata": {},
   "outputs": [
    {
     "name": "stdout",
     "output_type": "stream",
     "text": [
      "CPU times: user 10min 4s, sys: 6.77 s, total: 10min 11s\n",
      "Wall time: 2h 30min 12s\n"
     ]
    }
   ],
   "source": [
    "%%time\n",
    "trainds, valds = data.TabularDataset.splits(path='./', \n",
    "                                            format='csv', train='traindf.csv', validation='valdf.csv', \n",
    "                                            fields=train_fields, skip_header=True)"
   ]
  },
  {
   "cell_type": "code",
   "execution_count": 25,
   "metadata": {},
   "outputs": [
    {
     "data": {
      "text/plain": [
       "torchtext.data.dataset.TabularDataset"
      ]
     },
     "execution_count": 25,
     "metadata": {},
     "output_type": "execute_result"
    },
    {
     "data": {
      "text/plain": [
       "(1044897, 261225)"
      ]
     },
     "execution_count": 25,
     "metadata": {},
     "output_type": "execute_result"
    },
    {
     "data": {
      "text/plain": [
       "['how',\n",
       " 'is',\n",
       " 'strategic',\n",
       " 'positioning',\n",
       " 'is',\n",
       " 'different',\n",
       " 'from',\n",
       " 'marketing',\n",
       " 'positioning']"
      ]
     },
     "execution_count": 25,
     "metadata": {},
     "output_type": "execute_result"
    }
   ],
   "source": [
    "type(trainds)\n",
    "len(trainds), len(valds)\n",
    "trainds[0].question_text"
   ]
  },
  {
   "cell_type": "code",
   "execution_count": 26,
   "metadata": {},
   "outputs": [
    {
     "data": {
      "text/plain": [
       "torchtext.data.example.Example"
      ]
     },
     "execution_count": 26,
     "metadata": {},
     "output_type": "execute_result"
    },
    {
     "data": {
      "text/plain": [
       "dict_items([('qid', None), ('question_text', <torchtext.data.field.Field object at 0x1a31607c18>), ('target', <torchtext.data.field.Field object at 0x1a19d1f4e0>)])"
      ]
     },
     "execution_count": 26,
     "metadata": {},
     "output_type": "execute_result"
    },
    {
     "data": {
      "text/plain": [
       "['how',\n",
       " 'is',\n",
       " 'strategic',\n",
       " 'positioning',\n",
       " 'is',\n",
       " 'different',\n",
       " 'from',\n",
       " 'marketing',\n",
       " 'positioning']"
      ]
     },
     "execution_count": 26,
     "metadata": {},
     "output_type": "execute_result"
    },
    {
     "data": {
      "text/plain": [
       "'0'"
      ]
     },
     "execution_count": 26,
     "metadata": {},
     "output_type": "execute_result"
    }
   ],
   "source": [
    "ex = trainds.examples[0]\n",
    "type(ex)\n",
    "trainds.fields.items()\n",
    "ex.question_text\n",
    "ex.target"
   ]
  },
  {
   "cell_type": "markdown",
   "metadata": {},
   "source": [
    "### Load pretrained word vectors and building vocabulary"
   ]
  },
  {
   "cell_type": "code",
   "execution_count": 27,
   "metadata": {},
   "outputs": [
    {
     "name": "stdout",
     "output_type": "stream",
     "text": [
      "CPU times: user 134 ms, sys: 160 ms, total: 294 ms\n",
      "Wall time: 393 ms\n"
     ]
    }
   ],
   "source": [
    "%%time\n",
    "vec = vocab.Vectors('word2vec.txt', './')\n"
   ]
  },
  {
   "cell_type": "code",
   "execution_count": 28,
   "metadata": {},
   "outputs": [
    {
     "data": {
      "text/plain": [
       "258110"
      ]
     },
     "execution_count": 28,
     "metadata": {},
     "output_type": "execute_result"
    }
   ],
   "source": [
    "len(vec.vectors)"
   ]
  },
  {
   "cell_type": "code",
   "execution_count": 29,
   "metadata": {},
   "outputs": [
    {
     "name": "stdout",
     "output_type": "stream",
     "text": [
      "CPU times: user 15.5 s, sys: 1.49 s, total: 17 s\n",
      "Wall time: 18.5 s\n"
     ]
    }
   ],
   "source": [
    "%%time\n",
    "TEXT.build_vocab(trainds, valds, max_size=160000, vectors=vec)\n",
    "LABELS.build_vocab(trainds)"
   ]
  },
  {
   "cell_type": "code",
   "execution_count": 30,
   "metadata": {},
   "outputs": [
    {
     "data": {
      "text/plain": [
       "torch.Size([160002, 50])"
      ]
     },
     "execution_count": 30,
     "metadata": {},
     "output_type": "execute_result"
    }
   ],
   "source": [
    "TEXT.vocab.vectors.shape"
   ]
  },
  {
   "cell_type": "code",
   "execution_count": 31,
   "metadata": {},
   "outputs": [
    {
     "data": {
      "text/plain": [
       "tensor([-1.5454, -0.3855, -1.3414, -0.1820,  0.9111, -0.0511,  2.3909,  0.0982,\n",
       "        -1.2502,  2.0930,  0.4491,  2.8606, -0.1207, -0.8120, -1.3948, -2.5018,\n",
       "        -0.8181,  0.5812,  4.7760,  0.1531, -1.6925,  1.2428, -0.4360,  0.9675,\n",
       "         1.3102,  0.2022,  1.0768, -0.2839, -2.1971, -0.6728,  1.5275,  3.3601,\n",
       "         2.2180, -0.0426, -0.4355, -0.2776,  1.4450, -0.6309,  0.7143, -0.4283,\n",
       "         0.4671,  1.4224, -3.1848,  0.8012,  3.7483, -1.3917, -1.5730, -1.9213,\n",
       "         1.7973, -3.2339])"
      ]
     },
     "execution_count": 31,
     "metadata": {},
     "output_type": "execute_result"
    }
   ],
   "source": [
    "TEXT.vocab.vectors[TEXT.vocab.stoi['the']]"
   ]
  },
  {
   "cell_type": "code",
   "execution_count": null,
   "metadata": {},
   "outputs": [],
   "source": []
  }
 ],
 "metadata": {
  "kernelspec": {
   "display_name": "Python 3",
   "language": "python",
   "name": "python3"
  },
  "language_info": {
   "codemirror_mode": {
    "name": "ipython",
    "version": 3
   },
   "file_extension": ".py",
   "mimetype": "text/x-python",
   "name": "python",
   "nbconvert_exporter": "python",
   "pygments_lexer": "ipython3",
   "version": "3.6.6"
  }
 },
 "nbformat": 4,
 "nbformat_minor": 2
}
